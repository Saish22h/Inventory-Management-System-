{
 "cells": [
  {
   "cell_type": "markdown",
   "id": "d9ace5ff",
   "metadata": {},
   "source": [
    "# Inventory Management System"
   ]
  },
  {
   "cell_type": "code",
   "execution_count": 3,
   "id": "fa3f1cf5",
   "metadata": {},
   "outputs": [],
   "source": [
    "import numpy as np\n",
    "import json\n",
    "import os\n",
    "import time"
   ]
  },
  {
   "cell_type": "markdown",
   "id": "cc2afd13",
   "metadata": {},
   "source": [
    "### Creating a records.json file"
   ]
  },
  {
   "cell_type": "code",
   "execution_count": 64,
   "id": "e828fca3",
   "metadata": {},
   "outputs": [],
   "source": [
    "# Please do not run the below line as it will reset the records.json file"
   ]
  },
  {
   "cell_type": "code",
   "execution_count": 4,
   "id": "22fc0ba1",
   "metadata": {},
   "outputs": [
    {
     "data": {
      "text/plain": [
       "31"
      ]
     },
     "execution_count": 4,
     "metadata": {},
     "output_type": "execute_result"
    }
   ],
   "source": [
    "records={181102001:{\"Name\":\"Lassi\",\"Price\":20,\"Quantity\":30,\"Manufacture_Date\":\"01-09-2021\",\"Type\":\"Beverage\"},\n",
    "         181102002:{\"Name\":\"Lays\",\"Price\":20,\"Quantity\":300,\"Manufacture_Date\":\"04-08-2021\",\"Type\":\"Chips\"},\n",
    "         181102003:{\"Name\":\"Maaza\",\"Price\":39,\"Quantity\":84,\"Manufacture_Date\":\"03-08-2021\",\"Type\":\"Beverage\"},\n",
    "         181102004:{\"Name\":\"Munch\",\"Price\":5,\"Quantity\":40,\"Manufacture_Date\":\"30-07-2021\",\"Type\":\"Chocolate\"},\n",
    "         181102005:{\"Name\":\"Oreo\",\"Price\":35,\"Quantity\":30,\"Manufacture_Date\":\"01-08-2021\",\"Type\":\"Biscuit\"},\n",
    "         181102006:{\"Name\":\"Limca\",\"Price\":35,\"Quantity\":33,\"Manufacture_Date\":\"14-08-2021\",\"Type\":\"Beverage\"},\n",
    "         181102007:{\"Name\":\"Noodles\",\"Price\":15,\"Quantity\":30,\"Manufacture_Date\":\"05-08-2021\",\"Type\":\"Ready_To_Cook\"},\n",
    "         181102008:{\"Name\":\"Kitkat\",\"Price\":30,\"Quantity\":120,\"Manufacture_Date\":\"03-08-2021\",\"Type\":\"Chocolate\"},\n",
    "         181102009:{\"Name\":\"Pasta\",\"Price\":40,\"Quantity\":30,\"Manufacture_Date\":\"11-08-2021\",\"Type\":\"Ready_To_Cook\"},\n",
    "         181102010:{\"Name\":\"Perk\",\"Price\":10,\"Quantity\":72,\"Manufacture_Date\":\"7-06-2021\",\"Type\":\"Chocolate\"},\n",
    "         181102011:{\"Name\":\"Pizza\",\"Price\":300,\"Quantity\":70,\"Manufacture_Date\":\"7-06-2021\",\"Type\":\"Ready_To_Cook\"},\n",
    "         181102012:{\"Name\":\"Tomato Soup\",\"Price\":20,\"Quantity\":72,\"Manufacture_Date\":\"7-06-2021\",\"Type\":\"Ready_To_Cook\"},\n",
    "         181102013:{\"Name\":\"Pastry\",\"Price\":70,\"Quantity\":20,\"Manufacture_Date\":\"7-06-2021\",\"Type\":\"Bakery\"},\n",
    "         181102014:{\"Name\":\"Oats\",\"Price\":20,\"Quantity\":50,\"Manufacture_Date\":\"7-06-2021\",\"Type\":\"Ready_To_Cook\"},\n",
    "         181102015:{\"Name\":\"Pista\",\"Price\":350,\"Quantity\":30,\"Manufacture_Date\":\"3-06-2021\",\"Type\":\"Dry_Fruits\"},\n",
    "         181102016:{\"Name\":\"Lolipop\",\"Price\":10,\"Quantity\":720,\"Manufacture_Date\":\"7-06-2021\",\"Type\":\"Chocolate\"},\n",
    "         181102017:{\"Name\":\"Bourbon\",\"Price\":20,\"Quantity\":60,\"Manufacture_Date\":\"7-06-2021\",\"Type\":\"Biscuit\"},\n",
    "         181102018:{\"Name\":\"Cashew\",\"Price\":700,\"Quantity\":72,\"Manufacture_Date\":\"7-06-2021\",\"Type\":\"Dry_Fruits\"},\n",
    "         181102019:{\"Name\":\"Oregano\",\"Price\":10,\"Quantity\":72,\"Manufacture_Date\":\"5-09-2021\",\"Type\":\"Spice\"},\n",
    "         181102020:{\"Name\":\"Finger Chips\",\"Price\":70,\"Quantity\":35,\"Manufacture_Date\":\"7-06-2021\",\"Type\":\"Ready_To_Cook\"},\n",
    "         181102021:{\"Name\":\"IPhone\",\"Price\":70000,\"Quantity\":12,\"Manufacture_Date\":\"7-07-2021\",\"Type\":\"Mobile\"},\n",
    "         181102022:{\"Name\":\"Keyboard\",\"Price\":70,\"Quantity\":35,\"Manufacture_Date\":\"7-05-2021\",\"Type\":\"Computer_Accessories\"},\n",
    "         181102023:{\"Name\":\"Lifebuoy\",\"Price\":27,\"Quantity\":36,\"Manufacture_Date\":\"7-06-2021\",\"Type\":\"Soap\"},\n",
    "         181102024:{\"Name\":\"SurfExcel Matic\",\"Price\":200,\"Quantity\":35,\"Manufacture_Date\":\"7-06-2021\",\"Type\":\"Detergent\"},\n",
    "         181102025:{\"Name\":\"Wooden Sofa\",\"Price\":28000,\"Quantity\":6,\"Manufacture_Date\":\"7-03-2021\",\"Type\":\"Furniture\"},\n",
    "         181102026:{\"Name\":\"Fair And Lovely\",\"Price\":40,\"Quantity\":48,\"Manufacture_Date\":\"14-06-2021\",\"Type\":\"Fairness_Cream\"},\n",
    "         181102027:{\"Name\":\"Cinthol\",\"Price\":35,\"Quantity\":36,\"Manufacture_Date\":\"7-06-2021\",\"Type\":\"Soap\"},\n",
    "         181102028:{\"Name\":\"Redmi Note 10\",\"Price\":15000,\"Quantity\":17,\"Manufacture_Date\":\"7-04-2021\",\"Type\":\"Mobile\"},\n",
    "         181102029:{\"Name\":\"Gems\",\"Price\":10,\"Quantity\":70,\"Manufacture_Date\":\"16-06-2021\",\"Type\":\"Chocolate\"},\n",
    "         181102030:{\"Name\":\"Balaji Wafers\",\"Price\":30,\"Quantity\":36,\"Manufacture_Date\":\"11-06-2021\",\"Type\":\"Chips\"},\n",
    "         181102031:{\"Name\":\"Handwash\",\"Price\":70,\"Quantity\":35,\"Manufacture_Date\":\"7-05-2021\",\"Type\":\"Soap\"}}\n",
    "len(records)"
   ]
  },
  {
   "cell_type": "code",
   "execution_count": 5,
   "id": "b6777fb2",
   "metadata": {},
   "outputs": [],
   "source": [
    "js=json.dumps(records)"
   ]
  },
  {
   "cell_type": "code",
   "execution_count": 6,
   "id": "b720b754",
   "metadata": {},
   "outputs": [],
   "source": [
    "fd=open(\"Records.json\",\"w\")"
   ]
  },
  {
   "cell_type": "code",
   "execution_count": 7,
   "id": "5cf8a70f",
   "metadata": {},
   "outputs": [],
   "source": [
    "fd.write(js)\n",
    "fd.close()"
   ]
  },
  {
   "cell_type": "code",
   "execution_count": 8,
   "id": "117343b8",
   "metadata": {},
   "outputs": [],
   "source": [
    "fd=open(\"Records.json\",\"r\")\n",
    "txt=fd.read()\n",
    "fd.close()"
   ]
  },
  {
   "cell_type": "code",
   "execution_count": null,
   "id": "5d037a2a",
   "metadata": {},
   "outputs": [],
   "source": []
  },
  {
   "cell_type": "code",
   "execution_count": 9,
   "id": "c981f867",
   "metadata": {},
   "outputs": [],
   "source": [
    "record=json.loads(txt)"
   ]
  },
  {
   "cell_type": "code",
   "execution_count": 12,
   "id": "0feb5ef2",
   "metadata": {},
   "outputs": [
    {
     "data": {
      "text/plain": [
       "{'181102001': {'Name': 'Lassi',\n",
       "  'Price': 20,\n",
       "  'Quantity': 30,\n",
       "  'Manufacture_Date': '01-09-2021',\n",
       "  'Type': 'Beverage'},\n",
       " '181102002': {'Name': 'Lays',\n",
       "  'Price': 20,\n",
       "  'Quantity': 300,\n",
       "  'Manufacture_Date': '04-08-2021',\n",
       "  'Type': 'Chips'},\n",
       " '181102003': {'Name': 'Maaza',\n",
       "  'Price': 39,\n",
       "  'Quantity': 84,\n",
       "  'Manufacture_Date': '03-08-2021',\n",
       "  'Type': 'Beverage'},\n",
       " '181102004': {'Name': 'Munch',\n",
       "  'Price': 5,\n",
       "  'Quantity': 40,\n",
       "  'Manufacture_Date': '30-07-2021',\n",
       "  'Type': 'Chocolate'},\n",
       " '181102005': {'Name': 'Oreo',\n",
       "  'Price': 35,\n",
       "  'Quantity': 30,\n",
       "  'Manufacture_Date': '01-08-2021',\n",
       "  'Type': 'Biscuit'},\n",
       " '181102006': {'Name': 'Limca',\n",
       "  'Price': 35,\n",
       "  'Quantity': 33,\n",
       "  'Manufacture_Date': '14-08-2021',\n",
       "  'Type': 'Beverage'},\n",
       " '181102007': {'Name': 'Noodles',\n",
       "  'Price': 15,\n",
       "  'Quantity': 30,\n",
       "  'Manufacture_Date': '05-08-2021',\n",
       "  'Type': 'Ready_To_Cook'},\n",
       " '181102008': {'Name': 'Kitkat',\n",
       "  'Price': 30,\n",
       "  'Quantity': 120,\n",
       "  'Manufacture_Date': '03-08-2021',\n",
       "  'Type': 'Chocolate'},\n",
       " '181102009': {'Name': 'Pasta',\n",
       "  'Price': 40,\n",
       "  'Quantity': 30,\n",
       "  'Manufacture_Date': '11-08-2021',\n",
       "  'Type': 'Ready_To_Cook'},\n",
       " '181102010': {'Name': 'Perk',\n",
       "  'Price': 10,\n",
       "  'Quantity': 72,\n",
       "  'Manufacture_Date': '7-06-2021',\n",
       "  'Type': 'Chocolate'},\n",
       " '181102011': {'Name': 'Pizza',\n",
       "  'Price': 300,\n",
       "  'Quantity': 70,\n",
       "  'Manufacture_Date': '7-06-2021',\n",
       "  'Type': 'Ready_To_Cook'},\n",
       " '181102012': {'Name': 'Tomato Soup',\n",
       "  'Price': 20,\n",
       "  'Quantity': 72,\n",
       "  'Manufacture_Date': '7-06-2021',\n",
       "  'Type': 'Ready_To_Cook'},\n",
       " '181102013': {'Name': 'Pastry',\n",
       "  'Price': 70,\n",
       "  'Quantity': 20,\n",
       "  'Manufacture_Date': '7-06-2021',\n",
       "  'Type': 'Bakery'},\n",
       " '181102014': {'Name': 'Oats',\n",
       "  'Price': 20,\n",
       "  'Quantity': 50,\n",
       "  'Manufacture_Date': '7-06-2021',\n",
       "  'Type': 'Ready_To_Cook'},\n",
       " '181102015': {'Name': 'Pista',\n",
       "  'Price': 350,\n",
       "  'Quantity': 30,\n",
       "  'Manufacture_Date': '3-06-2021',\n",
       "  'Type': 'Dry_Fruits'},\n",
       " '181102016': {'Name': 'Lolipop',\n",
       "  'Price': 10,\n",
       "  'Quantity': 720,\n",
       "  'Manufacture_Date': '7-06-2021',\n",
       "  'Type': 'Chocolate'},\n",
       " '181102017': {'Name': 'Bourbon',\n",
       "  'Price': 20,\n",
       "  'Quantity': 60,\n",
       "  'Manufacture_Date': '7-06-2021',\n",
       "  'Type': 'Biscuit'},\n",
       " '181102018': {'Name': 'Cashew',\n",
       "  'Price': 700,\n",
       "  'Quantity': 72,\n",
       "  'Manufacture_Date': '7-06-2021',\n",
       "  'Type': 'Dry_Fruits'},\n",
       " '181102019': {'Name': 'Oregano',\n",
       "  'Price': 10,\n",
       "  'Quantity': 72,\n",
       "  'Manufacture_Date': '5-09-2021',\n",
       "  'Type': 'Spice'},\n",
       " '181102020': {'Name': 'Finger Chips',\n",
       "  'Price': 70,\n",
       "  'Quantity': 35,\n",
       "  'Manufacture_Date': '7-06-2021',\n",
       "  'Type': 'Ready_To_Cook'},\n",
       " '181102021': {'Name': 'IPhone',\n",
       "  'Price': 70000,\n",
       "  'Quantity': 12,\n",
       "  'Manufacture_Date': '7-07-2021',\n",
       "  'Type': 'Mobile'},\n",
       " '181102022': {'Name': 'Keyboard',\n",
       "  'Price': 70,\n",
       "  'Quantity': 35,\n",
       "  'Manufacture_Date': '7-05-2021',\n",
       "  'Type': 'Computer_Accessories'},\n",
       " '181102023': {'Name': 'Lifebuoy',\n",
       "  'Price': 27,\n",
       "  'Quantity': 36,\n",
       "  'Manufacture_Date': '7-06-2021',\n",
       "  'Type': 'Soap'},\n",
       " '181102024': {'Name': 'SurfExcel Matic',\n",
       "  'Price': 200,\n",
       "  'Quantity': 35,\n",
       "  'Manufacture_Date': '7-06-2021',\n",
       "  'Type': 'Detergent'},\n",
       " '181102025': {'Name': 'Wooden Sofa',\n",
       "  'Price': 28000,\n",
       "  'Quantity': 6,\n",
       "  'Manufacture_Date': '7-03-2021',\n",
       "  'Type': 'Furniture'},\n",
       " '181102026': {'Name': 'Fair And Lovely',\n",
       "  'Price': 40,\n",
       "  'Quantity': 48,\n",
       "  'Manufacture_Date': '14-06-2021',\n",
       "  'Type': 'Fairness_Cream'},\n",
       " '181102027': {'Name': 'Cinthol',\n",
       "  'Price': 35,\n",
       "  'Quantity': 36,\n",
       "  'Manufacture_Date': '7-06-2021',\n",
       "  'Type': 'Soap'},\n",
       " '181102028': {'Name': 'Redmi Note 10',\n",
       "  'Price': 15000,\n",
       "  'Quantity': 17,\n",
       "  'Manufacture_Date': '7-04-2021',\n",
       "  'Type': 'Mobile'},\n",
       " '181102029': {'Name': 'Gems',\n",
       "  'Price': 10,\n",
       "  'Quantity': 70,\n",
       "  'Manufacture_Date': '16-06-2021',\n",
       "  'Type': 'Chocolate'},\n",
       " '181102030': {'Name': 'Balaji Wafers',\n",
       "  'Price': 30,\n",
       "  'Quantity': 36,\n",
       "  'Manufacture_Date': '11-06-2021',\n",
       "  'Type': 'Chips'},\n",
       " '181102031': {'Name': 'Handwash',\n",
       "  'Price': 70,\n",
       "  'Quantity': 35,\n",
       "  'Manufacture_Date': '7-05-2021',\n",
       "  'Type': 'Soap'}}"
      ]
     },
     "execution_count": 12,
     "metadata": {},
     "output_type": "execute_result"
    }
   ],
   "source": [
    "record"
   ]
  },
  {
   "cell_type": "markdown",
   "id": "6d171b26",
   "metadata": {},
   "source": [
    "### Printing the items list"
   ]
  },
  {
   "cell_type": "code",
   "execution_count": 13,
   "id": "b33c4f55",
   "metadata": {},
   "outputs": [
    {
     "name": "stdout",
     "output_type": "stream",
     "text": [
      "\n",
      "                                                      The List Of Items\n",
      "\n",
      "\n",
      "************************************************************************************************************************\n",
      "   Product id : 181102001   Name : Lassi      Price  : 20  Quantity : 30\n",
      "   Type  : Beverage   Manufacturing Date : 01-09-2021 \n",
      "\n",
      "   Product id : 181102002   Name : Lays       Price  : 20  Quantity : 300\n",
      "   Type  : Chips   Manufacturing Date : 04-08-2021 \n",
      "\n",
      "   Product id : 181102003   Name : Maaza      Price  : 39  Quantity : 84\n",
      "   Type  : Beverage   Manufacturing Date : 03-08-2021 \n",
      "\n",
      "   Product id : 181102004   Name : Munch      Price  : 5  Quantity : 40\n",
      "   Type  : Chocolate   Manufacturing Date : 30-07-2021 \n",
      "\n",
      "   Product id : 181102005   Name : Oreo       Price  : 35  Quantity : 30\n",
      "   Type  : Biscuit   Manufacturing Date : 01-08-2021 \n",
      "\n",
      "   Product id : 181102006   Name : Limca      Price  : 35  Quantity : 33\n",
      "   Type  : Beverage   Manufacturing Date : 14-08-2021 \n",
      "\n",
      "   Product id : 181102007   Name : Noodles    Price  : 15  Quantity : 30\n",
      "   Type  : Ready_To_Cook   Manufacturing Date : 05-08-2021 \n",
      "\n",
      "   Product id : 181102008   Name : Kitkat     Price  : 30  Quantity : 120\n",
      "   Type  : Chocolate   Manufacturing Date : 03-08-2021 \n",
      "\n",
      "   Product id : 181102009   Name : Pasta      Price  : 40  Quantity : 30\n",
      "   Type  : Ready_To_Cook   Manufacturing Date : 11-08-2021 \n",
      "\n",
      "   Product id : 181102010   Name : Perk       Price  : 10  Quantity : 72\n",
      "   Type  : Chocolate   Manufacturing Date : 7-06-2021 \n",
      "\n",
      "   Product id : 181102011   Name : Pizza      Price  : 300  Quantity : 70\n",
      "   Type  : Ready_To_Cook   Manufacturing Date : 7-06-2021 \n",
      "\n",
      "   Product id : 181102012   Name : Tomato Soup Price  : 20  Quantity : 72\n",
      "   Type  : Ready_To_Cook   Manufacturing Date : 7-06-2021 \n",
      "\n",
      "   Product id : 181102013   Name : Pastry     Price  : 70  Quantity : 20\n",
      "   Type  : Bakery   Manufacturing Date : 7-06-2021 \n",
      "\n",
      "   Product id : 181102014   Name : Oats       Price  : 20  Quantity : 50\n",
      "   Type  : Ready_To_Cook   Manufacturing Date : 7-06-2021 \n",
      "\n",
      "   Product id : 181102015   Name : Pista      Price  : 350  Quantity : 30\n",
      "   Type  : Dry_Fruits   Manufacturing Date : 3-06-2021 \n",
      "\n",
      "   Product id : 181102016   Name : Lolipop    Price  : 10  Quantity : 720\n",
      "   Type  : Chocolate   Manufacturing Date : 7-06-2021 \n",
      "\n",
      "   Product id : 181102017   Name : Bourbon    Price  : 20  Quantity : 60\n",
      "   Type  : Biscuit   Manufacturing Date : 7-06-2021 \n",
      "\n",
      "   Product id : 181102018   Name : Cashew     Price  : 700  Quantity : 72\n",
      "   Type  : Dry_Fruits   Manufacturing Date : 7-06-2021 \n",
      "\n",
      "   Product id : 181102019   Name : Oregano    Price  : 10  Quantity : 72\n",
      "   Type  : Spice   Manufacturing Date : 5-09-2021 \n",
      "\n",
      "   Product id : 181102020   Name : Finger Chips Price  : 70  Quantity : 35\n",
      "   Type  : Ready_To_Cook   Manufacturing Date : 7-06-2021 \n",
      "\n",
      "   Product id : 181102021   Name : IPhone     Price  : 70000  Quantity : 12\n",
      "   Type  : Mobile   Manufacturing Date : 7-07-2021 \n",
      "\n",
      "   Product id : 181102022   Name : Keyboard   Price  : 70  Quantity : 35\n",
      "   Type  : Computer_Accessories   Manufacturing Date : 7-05-2021 \n",
      "\n",
      "   Product id : 181102023   Name : Lifebuoy   Price  : 27  Quantity : 36\n",
      "   Type  : Soap   Manufacturing Date : 7-06-2021 \n",
      "\n",
      "   Product id : 181102024   Name : SurfExcel Matic Price  : 200  Quantity : 35\n",
      "   Type  : Detergent   Manufacturing Date : 7-06-2021 \n",
      "\n",
      "   Product id : 181102025   Name : Wooden Sofa Price  : 28000  Quantity : 6\n",
      "   Type  : Furniture   Manufacturing Date : 7-03-2021 \n",
      "\n",
      "   Product id : 181102026   Name : Fair And Lovely Price  : 40  Quantity : 48\n",
      "   Type  : Fairness_Cream   Manufacturing Date : 14-06-2021 \n",
      "\n",
      "   Product id : 181102027   Name : Cinthol    Price  : 35  Quantity : 36\n",
      "   Type  : Soap   Manufacturing Date : 7-06-2021 \n",
      "\n",
      "   Product id : 181102028   Name : Redmi Note 10 Price  : 15000  Quantity : 17\n",
      "   Type  : Mobile   Manufacturing Date : 7-04-2021 \n",
      "\n",
      "   Product id : 181102029   Name : Gems       Price  : 10  Quantity : 70\n",
      "   Type  : Chocolate   Manufacturing Date : 16-06-2021 \n",
      "\n",
      "   Product id : 181102030   Name : Balaji Wafers Price  : 30  Quantity : 36\n",
      "   Type  : Chips   Manufacturing Date : 11-06-2021 \n",
      "\n",
      "   Product id : 181102031   Name : Handwash   Price  : 70  Quantity : 35\n",
      "   Type  : Soap   Manufacturing Date : 7-05-2021 \n",
      "\n",
      "*************************************************************************************************************************\n"
     ]
    }
   ],
   "source": [
    "print(\"\\n                                                      The List Of Items\\n\\n\")\n",
    "print(\"************************************************************************************************************************\")\n",
    "for i in record :\n",
    "    print(\"   Product id :\",i,\" \",\"Name : {:10}\".format(record[i][\"Name\"]),\"Price  :\",record[i][\"Price\"],\" Quantity :\",record[i][\"Quantity\"])\n",
    "    print(\"   Type  :\",record[i][\"Type\"],\"  Manufacturing Date :\",record[i][\"Manufacture_Date\"],\"\\n\")\n",
    "print(\"*************************************************************************************************************************\")    "
   ]
  },
  {
   "cell_type": "markdown",
   "id": "bab68156",
   "metadata": {},
   "source": [
    "### Accepting the items and printing the bill"
   ]
  },
  {
   "cell_type": "code",
   "execution_count": 39,
   "id": "681df30d",
   "metadata": {},
   "outputs": [
    {
     "name": "stdout",
     "output_type": "stream",
     "text": [
      "Enter the number of products required 4\n",
      "Enter the product id 181102031\n",
      "Enter the quantity 5\n",
      "Enter the product id 181102021\n",
      "Enter the quantity 1\n",
      "Enter the product id 181102011\n",
      "Enter the quantity 3\n",
      "Enter the product id 181102019\n",
      "Enter the quantity 1\n",
      "Please enter your name Saish \n",
      "Please enter your phone number.Thanks 9158616134\n",
      "['181102031', '181102021', '181102011', '181102019'] \n",
      " [5, 1, 3, 1]\n"
     ]
    }
   ],
   "source": [
    "ids=[]\n",
    "qty=[]\n",
    "num=int(input(\"Enter the number of products required \"))\n",
    "for i in range(num):\n",
    " ids.append(input(\"Enter the product id \"))\n",
    " qty.append(int(input(\"Enter the quantity \")))\n",
    "name=input(\"Please enter your name \")\n",
    "ph_no=input(\"Please enter your phone number.Thanks \")\n",
    "if(len(ph_no)!=10):\n",
    "    ph_no=input(\"Please enter valid phone number, Thanks \")\n",
    "print(ids,'\\n',qty)"
   ]
  },
  {
   "cell_type": "code",
   "execution_count": 40,
   "id": "69bf87be",
   "metadata": {},
   "outputs": [],
   "source": [
    "for i in range(num):\n",
    "    if(qty[i]>record[ids[i]][\"Quantity\"]):\n",
    "        if(qty[i]==0):\n",
    "            print(\"Sorry, we do not have this product with us\")\n",
    "            del qty[i]\n",
    "            del ids[i]\n",
    "            num-=1\n",
    "        else: \n",
    "            y=input(\"We have only {} {} , Enter 'y' if you wish to buy it \".format(record[ids[i]][\"Quantity\"],record[ids[i]][\"Name\"]))\n",
    "            if(y=='y'): \n",
    "                qty[i]=record[ids[i]][\"Quantity\"]\n",
    "                record[ids[i]][\"Quantity\"]=0\n",
    "            else: \n",
    "                del qty[i]\n",
    "                del ids[i]\n",
    "                num-=1\n",
    "    else:\n",
    "        record[ids[i]][\"Quantity\"]-=qty[i]  "
   ]
  },
  {
   "cell_type": "code",
   "execution_count": 41,
   "id": "3e003e4e",
   "metadata": {},
   "outputs": [
    {
     "name": "stdout",
     "output_type": "stream",
     "text": [
      "350\n",
      "70350\n",
      "71250\n",
      "71260\n",
      "71260 14252.0\n"
     ]
    }
   ],
   "source": [
    "total=0\n",
    "dis_price=0\n",
    "for i in range(num):\n",
    "    total+=record[ids[i]][\"Price\"]*qty[i]\n",
    "    print(total)        \n",
    "if(total > 1000):\n",
    "    dis_price=0.2*total\n",
    "else:\n",
    "    dis_price=0.3*total\n",
    "    if(dis_price>100):\n",
    "        dis_price=100\n",
    "net_t=total-dis_price\n",
    "print(total,dis_price)"
   ]
  },
  {
   "cell_type": "code",
   "execution_count": 42,
   "id": "643a7a4a",
   "metadata": {},
   "outputs": [
    {
     "name": "stdout",
     "output_type": "stream",
     "text": [
      "                                                  Product Bill\n",
      "*********************************************************************************************************************\n",
      "   Product id : 181102031   Name : Handwash        Type :Soap            Price : 70  Quantity : 5 Total Price  : 350\n",
      "   Product id : 181102021   Name : IPhone          Type :Mobile          Price : 70000  Quantity : 1 Total Price  : 70000\n",
      "   Product id : 181102011   Name : Pizza           Type :Ready_To_Cook   Price : 300  Quantity : 3 Total Price  : 900\n",
      "   Product id : 181102019   Name : Oregano         Type :Spice           Price : 10  Quantity : 1 Total Price  : 10\n",
      "*********************************************************************************************************************\n",
      " Gross Billing Amount :  71260\n",
      " Total Savings :        14252.0\n",
      "----------------------------------\n",
      " Net Payable Amount :    57008.0\n"
     ]
    }
   ],
   "source": [
    "print(\"                                                  Product Bill\")\n",
    "print(\"*********************************************************************************************************************\") \n",
    "for i in range(num):\n",
    "    print(\"   Product id :\",ids[i],\" \",\"Name : {:15}\".format(record[ids[i]][\"Name\"]),\"Type :{:15}\".format(record[ids[i]][\"Type\"]),\"Price :\",record[ids[i]][\"Price\"],\" Quantity :\",qty[i],\"Total Price  :\",record[ids[i]][\"Price\"]*qty[i])\n",
    "print(\"*********************************************************************************************************************\")  \n",
    "print(\" Gross Billing Amount : \",total)\n",
    "print(\" Total Savings :{:15}\".format(dis_price))\n",
    "print(\"----------------------------------\")\n",
    "print(\" Net Payable Amount :   \",net_t)"
   ]
  },
  {
   "cell_type": "code",
   "execution_count": 43,
   "id": "90b4f54d",
   "metadata": {},
   "outputs": [
    {
     "data": {
      "text/plain": [
       "{'181102001': {'Name': 'Lassi',\n",
       "  'Price': 20,\n",
       "  'Quantity': 30,\n",
       "  'Manufacture_Date': '01-09-2021',\n",
       "  'Type': 'Beverage'},\n",
       " '181102002': {'Name': 'Lays',\n",
       "  'Price': 20,\n",
       "  'Quantity': 300,\n",
       "  'Manufacture_Date': '04-08-2021',\n",
       "  'Type': 'Chips'},\n",
       " '181102003': {'Name': 'Maaza',\n",
       "  'Price': 39,\n",
       "  'Quantity': 84,\n",
       "  'Manufacture_Date': '03-08-2021',\n",
       "  'Type': 'Beverage'},\n",
       " '181102004': {'Name': 'Munch',\n",
       "  'Price': 5,\n",
       "  'Quantity': 40,\n",
       "  'Manufacture_Date': '30-07-2021',\n",
       "  'Type': 'Chocolate'},\n",
       " '181102005': {'Name': 'Oreo',\n",
       "  'Price': 35,\n",
       "  'Quantity': 30,\n",
       "  'Manufacture_Date': '01-08-2021',\n",
       "  'Type': 'Biscuit'},\n",
       " '181102006': {'Name': 'Limca',\n",
       "  'Price': 35,\n",
       "  'Quantity': 33,\n",
       "  'Manufacture_Date': '14-08-2021',\n",
       "  'Type': 'Beverage'},\n",
       " '181102007': {'Name': 'Noodles',\n",
       "  'Price': 15,\n",
       "  'Quantity': 23,\n",
       "  'Manufacture_Date': '05-08-2021',\n",
       "  'Type': 'Ready_To_Cook'},\n",
       " '181102008': {'Name': 'Kitkat',\n",
       "  'Price': 30,\n",
       "  'Quantity': 120,\n",
       "  'Manufacture_Date': '03-08-2021',\n",
       "  'Type': 'Chocolate'},\n",
       " '181102009': {'Name': 'Pasta',\n",
       "  'Price': 40,\n",
       "  'Quantity': 30,\n",
       "  'Manufacture_Date': '11-08-2021',\n",
       "  'Type': 'Ready_To_Cook'},\n",
       " '181102010': {'Name': 'Perk',\n",
       "  'Price': 10,\n",
       "  'Quantity': 72,\n",
       "  'Manufacture_Date': '7-06-2021',\n",
       "  'Type': 'Chocolate'},\n",
       " '181102011': {'Name': 'Pizza',\n",
       "  'Price': 300,\n",
       "  'Quantity': 67,\n",
       "  'Manufacture_Date': '7-06-2021',\n",
       "  'Type': 'Ready_To_Cook'},\n",
       " '181102012': {'Name': 'Tomato Soup',\n",
       "  'Price': 20,\n",
       "  'Quantity': 72,\n",
       "  'Manufacture_Date': '7-06-2021',\n",
       "  'Type': 'Ready_To_Cook'},\n",
       " '181102013': {'Name': 'Pastry',\n",
       "  'Price': 70,\n",
       "  'Quantity': 20,\n",
       "  'Manufacture_Date': '7-06-2021',\n",
       "  'Type': 'Bakery'},\n",
       " '181102014': {'Name': 'Oats',\n",
       "  'Price': 20,\n",
       "  'Quantity': 50,\n",
       "  'Manufacture_Date': '7-06-2021',\n",
       "  'Type': 'Ready_To_Cook'},\n",
       " '181102015': {'Name': 'Pista',\n",
       "  'Price': 350,\n",
       "  'Quantity': 30,\n",
       "  'Manufacture_Date': '3-06-2021',\n",
       "  'Type': 'Dry_Fruits'},\n",
       " '181102016': {'Name': 'Lolipop',\n",
       "  'Price': 10,\n",
       "  'Quantity': 720,\n",
       "  'Manufacture_Date': '7-06-2021',\n",
       "  'Type': 'Chocolate'},\n",
       " '181102017': {'Name': 'Bourbon',\n",
       "  'Price': 20,\n",
       "  'Quantity': 60,\n",
       "  'Manufacture_Date': '7-06-2021',\n",
       "  'Type': 'Biscuit'},\n",
       " '181102018': {'Name': 'Cashew',\n",
       "  'Price': 700,\n",
       "  'Quantity': 72,\n",
       "  'Manufacture_Date': '7-06-2021',\n",
       "  'Type': 'Dry_Fruits'},\n",
       " '181102019': {'Name': 'Oregano',\n",
       "  'Price': 10,\n",
       "  'Quantity': 71,\n",
       "  'Manufacture_Date': '5-09-2021',\n",
       "  'Type': 'Spice'},\n",
       " '181102020': {'Name': 'Finger Chips',\n",
       "  'Price': 70,\n",
       "  'Quantity': 35,\n",
       "  'Manufacture_Date': '7-06-2021',\n",
       "  'Type': 'Ready_To_Cook'},\n",
       " '181102021': {'Name': 'IPhone',\n",
       "  'Price': 70000,\n",
       "  'Quantity': 11,\n",
       "  'Manufacture_Date': '7-07-2021',\n",
       "  'Type': 'Mobile'},\n",
       " '181102022': {'Name': 'Keyboard',\n",
       "  'Price': 70,\n",
       "  'Quantity': 35,\n",
       "  'Manufacture_Date': '7-05-2021',\n",
       "  'Type': 'Computer_Accessories'},\n",
       " '181102023': {'Name': 'Lifebuoy',\n",
       "  'Price': 27,\n",
       "  'Quantity': 36,\n",
       "  'Manufacture_Date': '7-06-2021',\n",
       "  'Type': 'Soap'},\n",
       " '181102024': {'Name': 'SurfExcel Matic',\n",
       "  'Price': 200,\n",
       "  'Quantity': 35,\n",
       "  'Manufacture_Date': '7-06-2021',\n",
       "  'Type': 'Detergent'},\n",
       " '181102025': {'Name': 'Wooden Sofa',\n",
       "  'Price': 28000,\n",
       "  'Quantity': 6,\n",
       "  'Manufacture_Date': '7-03-2021',\n",
       "  'Type': 'Furniture'},\n",
       " '181102026': {'Name': 'Fair And Lovely',\n",
       "  'Price': 40,\n",
       "  'Quantity': 48,\n",
       "  'Manufacture_Date': '14-06-2021',\n",
       "  'Type': 'Fairness_Cream'},\n",
       " '181102027': {'Name': 'Cinthol',\n",
       "  'Price': 35,\n",
       "  'Quantity': 36,\n",
       "  'Manufacture_Date': '7-06-2021',\n",
       "  'Type': 'Soap'},\n",
       " '181102028': {'Name': 'Redmi Note 10',\n",
       "  'Price': 15000,\n",
       "  'Quantity': 16,\n",
       "  'Manufacture_Date': '7-04-2021',\n",
       "  'Type': 'Mobile'},\n",
       " '181102029': {'Name': 'Gems',\n",
       "  'Price': 10,\n",
       "  'Quantity': 70,\n",
       "  'Manufacture_Date': '16-06-2021',\n",
       "  'Type': 'Chocolate'},\n",
       " '181102030': {'Name': 'Balaji Wafers',\n",
       "  'Price': 30,\n",
       "  'Quantity': 0,\n",
       "  'Manufacture_Date': '11-06-2021',\n",
       "  'Type': 'Chips'},\n",
       " '181102031': {'Name': 'Handwash',\n",
       "  'Price': 70,\n",
       "  'Quantity': 30,\n",
       "  'Manufacture_Date': '7-05-2021',\n",
       "  'Type': 'Soap'}}"
      ]
     },
     "execution_count": 43,
     "metadata": {},
     "output_type": "execute_result"
    }
   ],
   "source": [
    "record"
   ]
  },
  {
   "cell_type": "markdown",
   "id": "d69a0f15",
   "metadata": {},
   "source": [
    "### Creating the sales.json file"
   ]
  },
  {
   "cell_type": "code",
   "execution_count": 44,
   "id": "310d2232",
   "metadata": {},
   "outputs": [],
   "source": [
    "js=json.dumps(record)\n",
    "fd=open(\"Records.json\",\"w\")"
   ]
  },
  {
   "cell_type": "code",
   "execution_count": 45,
   "id": "5e12a06e",
   "metadata": {},
   "outputs": [],
   "source": [
    "fd.write(js)\n",
    "fd.close()"
   ]
  },
  {
   "cell_type": "code",
   "execution_count": 24,
   "id": "22c98963",
   "metadata": {},
   "outputs": [],
   "source": []
  },
  {
   "cell_type": "code",
   "execution_count": null,
   "id": "153c437b",
   "metadata": {},
   "outputs": [],
   "source": []
  },
  {
   "cell_type": "code",
   "execution_count": 25,
   "id": "bd561e93",
   "metadata": {},
   "outputs": [],
   "source": []
  },
  {
   "cell_type": "markdown",
   "id": "c44c6eb5",
   "metadata": {},
   "source": [
    "### Creating the sales.json file for first time, do not run this"
   ]
  },
  {
   "cell_type": "code",
   "execution_count": 46,
   "id": "034774a9",
   "metadata": {},
   "outputs": [],
   "source": [
    "fd=open(\"Sales.json\",\"r\")\n",
    "txt=fd.read()\n",
    "fd.close()"
   ]
  },
  {
   "cell_type": "code",
   "execution_count": 48,
   "id": "a1fa1129",
   "metadata": {},
   "outputs": [
    {
     "data": {
      "text/plain": [
       "{'1': {'Name': 'Sahil',\n",
       "  'Ph_no': '9134545545',\n",
       "  'Qty': [7, 1, 36],\n",
       "  'Ids': ['181102007', '181102028', '181102030'],\n",
       "  'Gross_Total': 16185,\n",
       "  'Net_total': 12948.0}}"
      ]
     },
     "execution_count": 48,
     "metadata": {},
     "output_type": "execute_result"
    }
   ],
   "source": [
    "sales=json.loads(txt)\n",
    "sales"
   ]
  },
  {
   "cell_type": "code",
   "execution_count": 32,
   "id": "f880b040",
   "metadata": {},
   "outputs": [
    {
     "data": {
      "text/plain": [
       "{2: {'Name': 'Sahil',\n",
       "  'Ph_no': '9134545545',\n",
       "  'Qty': [7, 1, 36],\n",
       "  'Ids': ['181102007', '181102028', '181102030'],\n",
       "  'Gross_Total': 16185,\n",
       "  'Net_total': 12948.0}}"
      ]
     },
     "execution_count": 32,
     "metadata": {},
     "output_type": "execute_result"
    }
   ],
   "source": [
    "#sales={1:{\"Name\":name,\"Ph_no\":ph_no,\"Qty\":qty,\"Ids\":ids,\"Gross_Total\":total,\"Net_total\":net_t}}"
   ]
  },
  {
   "cell_type": "code",
   "execution_count": 33,
   "id": "8c5dbc79",
   "metadata": {},
   "outputs": [],
   "source": [
    "#fd=open(\"Sales.json\",\"w\")"
   ]
  },
  {
   "cell_type": "code",
   "execution_count": 34,
   "id": "bc65cd92",
   "metadata": {},
   "outputs": [],
   "source": [
    "#js=json.dumps(sales)"
   ]
  },
  {
   "cell_type": "code",
   "execution_count": 35,
   "id": "e61414dd",
   "metadata": {},
   "outputs": [],
   "source": [
    "#fd.write(js)\n",
    "#fd.close()"
   ]
  },
  {
   "cell_type": "markdown",
   "id": "67297a42",
   "metadata": {},
   "source": [
    "### Adding new records to the Sales.json file"
   ]
  },
  {
   "cell_type": "code",
   "execution_count": 49,
   "id": "5ee206fb",
   "metadata": {},
   "outputs": [],
   "source": [
    "fd=open(\"Sales.json\",\"r\")\n",
    "txt=fd.read()\n",
    "fd.close()"
   ]
  },
  {
   "cell_type": "code",
   "execution_count": 50,
   "id": "109a877a",
   "metadata": {},
   "outputs": [
    {
     "data": {
      "text/plain": [
       "{'1': {'Name': 'Sahil',\n",
       "  'Ph_no': '9134545545',\n",
       "  'Qty': [7, 1, 36],\n",
       "  'Ids': ['181102007', '181102028', '181102030'],\n",
       "  'Gross_Total': 16185,\n",
       "  'Net_total': 12948.0}}"
      ]
     },
     "execution_count": 50,
     "metadata": {},
     "output_type": "execute_result"
    }
   ],
   "source": [
    "sales=json.loads(txt)\n",
    "sales"
   ]
  },
  {
   "cell_type": "code",
   "execution_count": 51,
   "id": "9f0f9491",
   "metadata": {},
   "outputs": [
    {
     "data": {
      "text/plain": [
       "{'1': {'Name': 'Sahil',\n",
       "  'Ph_no': '9134545545',\n",
       "  'Qty': [7, 1, 36],\n",
       "  'Ids': ['181102007', '181102028', '181102030'],\n",
       "  'Gross_Total': 16185,\n",
       "  'Net_total': 12948.0},\n",
       " 2: {'Name': 'Saish ',\n",
       "  'Ph_no': '9158616134',\n",
       "  'Qty': [5, 1, 3, 1],\n",
       "  'Ids': ['181102031', '181102021', '181102011', '181102019'],\n",
       "  'Gross_Total': 71260,\n",
       "  'Net_total': 57008.0}}"
      ]
     },
     "execution_count": 51,
     "metadata": {},
     "output_type": "execute_result"
    }
   ],
   "source": [
    "id_p=len(sales)+1\n",
    "sales.update({id_p:{\"Name\":name,\"Ph_no\":ph_no,\"Qty\":qty,\"Ids\":ids,\"Gross_Total\":total,\"Net_total\":net_t}})\n",
    "sales"
   ]
  },
  {
   "cell_type": "code",
   "execution_count": 52,
   "id": "56100f51",
   "metadata": {},
   "outputs": [],
   "source": [
    "fd=open(\"Sales.json\",\"w\")\n",
    "js=json.dumps(sales)\n",
    "fd.write(js)\n",
    "fd.close()"
   ]
  },
  {
   "cell_type": "markdown",
   "id": "8de87984",
   "metadata": {},
   "source": [
    "### Modifying the inventory"
   ]
  },
  {
   "cell_type": "code",
   "execution_count": 62,
   "id": "f8ad08ea",
   "metadata": {},
   "outputs": [
    {
     "name": "stdout",
     "output_type": "stream",
     "text": [
      "Enter 1 if new product has to be added to inventory, else enter any other number to update existing inventory 3\n",
      "Enter product id181102014\n",
      "Enter the number of products to be added to existing quantity 770\n"
     ]
    }
   ],
   "source": [
    "vay=int(input(\"Enter 1 if new product has to be added to inventory, else enter any other number to update existing inventory \"))\n",
    "if(vay==1):\n",
    "    p_id=input(\"Enter product id \")\n",
    "    name=input(\"Enter product name\")\n",
    "    quantity=int(input(\"Enter product quantity \"))\n",
    "    price=int(input(\"Enter product price \"))\n",
    "    types=input(\"Ener product type \")\n",
    "    manf=input(\"Enter manufacture date as dd-mm-yyyy \")\n",
    "    record.update({p_id:{\"Name\":name,\"Price\":price,\"Quantity\":quantity,\"Manufacture_Date\":manf,\"Type\":types}})\n",
    "else:\n",
    "    p_id=input(\"Enter product id\")\n",
    "    quantity=int(input(\"Enter the number of products to be added to existing quantity \"))\n",
    "    record[p_id][\"Quantity\"]+=quantity\n",
    "\n",
    "    "
   ]
  },
  {
   "cell_type": "code",
   "execution_count": 63,
   "id": "10c9c51a",
   "metadata": {},
   "outputs": [
    {
     "data": {
      "text/plain": [
       "{'181102001': {'Name': 'Lassi',\n",
       "  'Price': 20,\n",
       "  'Quantity': 30,\n",
       "  'Manufacture_Date': '01-09-2021',\n",
       "  'Type': 'Beverage'},\n",
       " '181102002': {'Name': 'Lays',\n",
       "  'Price': 20,\n",
       "  'Quantity': 300,\n",
       "  'Manufacture_Date': '04-08-2021',\n",
       "  'Type': 'Chips'},\n",
       " '181102003': {'Name': 'Maaza',\n",
       "  'Price': 39,\n",
       "  'Quantity': 84,\n",
       "  'Manufacture_Date': '03-08-2021',\n",
       "  'Type': 'Beverage'},\n",
       " '181102004': {'Name': 'Munch',\n",
       "  'Price': 5,\n",
       "  'Quantity': 40,\n",
       "  'Manufacture_Date': '30-07-2021',\n",
       "  'Type': 'Chocolate'},\n",
       " '181102005': {'Name': 'Oreo',\n",
       "  'Price': 35,\n",
       "  'Quantity': 30,\n",
       "  'Manufacture_Date': '01-08-2021',\n",
       "  'Type': 'Biscuit'},\n",
       " '181102006': {'Name': 'Limca',\n",
       "  'Price': 35,\n",
       "  'Quantity': 33,\n",
       "  'Manufacture_Date': '14-08-2021',\n",
       "  'Type': 'Beverage'},\n",
       " '181102007': {'Name': 'Noodles',\n",
       "  'Price': 15,\n",
       "  'Quantity': 23,\n",
       "  'Manufacture_Date': '05-08-2021',\n",
       "  'Type': 'Ready_To_Cook'},\n",
       " '181102008': {'Name': 'Kitkat',\n",
       "  'Price': 30,\n",
       "  'Quantity': 120,\n",
       "  'Manufacture_Date': '03-08-2021',\n",
       "  'Type': 'Chocolate'},\n",
       " '181102009': {'Name': 'Pasta',\n",
       "  'Price': 40,\n",
       "  'Quantity': 30,\n",
       "  'Manufacture_Date': '11-08-2021',\n",
       "  'Type': 'Ready_To_Cook'},\n",
       " '181102010': {'Name': 'Perk',\n",
       "  'Price': 10,\n",
       "  'Quantity': 72,\n",
       "  'Manufacture_Date': '7-06-2021',\n",
       "  'Type': 'Chocolate'},\n",
       " '181102011': {'Name': 'Pizza',\n",
       "  'Price': 300,\n",
       "  'Quantity': 67,\n",
       "  'Manufacture_Date': '7-06-2021',\n",
       "  'Type': 'Ready_To_Cook'},\n",
       " '181102012': {'Name': 'Tomato Soup',\n",
       "  'Price': 20,\n",
       "  'Quantity': 72,\n",
       "  'Manufacture_Date': '7-06-2021',\n",
       "  'Type': 'Ready_To_Cook'},\n",
       " '181102013': {'Name': 'Pastry',\n",
       "  'Price': 70,\n",
       "  'Quantity': 20,\n",
       "  'Manufacture_Date': '7-06-2021',\n",
       "  'Type': 'Bakery'},\n",
       " '181102014': {'Name': 'Oats',\n",
       "  'Price': 20,\n",
       "  'Quantity': 827,\n",
       "  'Manufacture_Date': '7-06-2021',\n",
       "  'Type': 'Ready_To_Cook'},\n",
       " '181102015': {'Name': 'Pista',\n",
       "  'Price': 350,\n",
       "  'Quantity': 30,\n",
       "  'Manufacture_Date': '3-06-2021',\n",
       "  'Type': 'Dry_Fruits'},\n",
       " '181102016': {'Name': 'Lolipop',\n",
       "  'Price': 10,\n",
       "  'Quantity': 720,\n",
       "  'Manufacture_Date': '7-06-2021',\n",
       "  'Type': 'Chocolate'},\n",
       " '181102017': {'Name': 'Bourbon',\n",
       "  'Price': 20,\n",
       "  'Quantity': 60,\n",
       "  'Manufacture_Date': '7-06-2021',\n",
       "  'Type': 'Biscuit'},\n",
       " '181102018': {'Name': 'Cashew',\n",
       "  'Price': 700,\n",
       "  'Quantity': 72,\n",
       "  'Manufacture_Date': '7-06-2021',\n",
       "  'Type': 'Dry_Fruits'},\n",
       " '181102019': {'Name': 'Oregano',\n",
       "  'Price': 10,\n",
       "  'Quantity': 71,\n",
       "  'Manufacture_Date': '5-09-2021',\n",
       "  'Type': 'Spice'},\n",
       " '181102020': {'Name': 'Finger Chips',\n",
       "  'Price': 70,\n",
       "  'Quantity': 35,\n",
       "  'Manufacture_Date': '7-06-2021',\n",
       "  'Type': 'Ready_To_Cook'},\n",
       " '181102021': {'Name': 'IPhone',\n",
       "  'Price': 70000,\n",
       "  'Quantity': 11,\n",
       "  'Manufacture_Date': '7-07-2021',\n",
       "  'Type': 'Mobile'},\n",
       " '181102022': {'Name': 'Keyboard',\n",
       "  'Price': 70,\n",
       "  'Quantity': 35,\n",
       "  'Manufacture_Date': '7-05-2021',\n",
       "  'Type': 'Computer_Accessories'},\n",
       " '181102023': {'Name': 'Lifebuoy',\n",
       "  'Price': 27,\n",
       "  'Quantity': 36,\n",
       "  'Manufacture_Date': '7-06-2021',\n",
       "  'Type': 'Soap'},\n",
       " '181102024': {'Name': 'SurfExcel Matic',\n",
       "  'Price': 200,\n",
       "  'Quantity': 35,\n",
       "  'Manufacture_Date': '7-06-2021',\n",
       "  'Type': 'Detergent'},\n",
       " '181102025': {'Name': 'Wooden Sofa',\n",
       "  'Price': 28000,\n",
       "  'Quantity': 6,\n",
       "  'Manufacture_Date': '7-03-2021',\n",
       "  'Type': 'Furniture'},\n",
       " '181102026': {'Name': 'Fair And Lovely',\n",
       "  'Price': 40,\n",
       "  'Quantity': 48,\n",
       "  'Manufacture_Date': '14-06-2021',\n",
       "  'Type': 'Fairness_Cream'},\n",
       " '181102027': {'Name': 'Cinthol',\n",
       "  'Price': 35,\n",
       "  'Quantity': 36,\n",
       "  'Manufacture_Date': '7-06-2021',\n",
       "  'Type': 'Soap'},\n",
       " '181102028': {'Name': 'Redmi Note 10',\n",
       "  'Price': 15000,\n",
       "  'Quantity': 16,\n",
       "  'Manufacture_Date': '7-04-2021',\n",
       "  'Type': 'Mobile'},\n",
       " '181102029': {'Name': 'Gems',\n",
       "  'Price': 10,\n",
       "  'Quantity': 70,\n",
       "  'Manufacture_Date': '16-06-2021',\n",
       "  'Type': 'Chocolate'},\n",
       " '181102030': {'Name': 'Balaji Wafers',\n",
       "  'Price': 30,\n",
       "  'Quantity': 77,\n",
       "  'Manufacture_Date': '11-06-2021',\n",
       "  'Type': 'Chips'},\n",
       " '181102031': {'Name': 'Handwash',\n",
       "  'Price': 70,\n",
       "  'Quantity': 30,\n",
       "  'Manufacture_Date': '7-05-2021',\n",
       "  'Type': 'Soap'}}"
      ]
     },
     "execution_count": 63,
     "metadata": {},
     "output_type": "execute_result"
    }
   ],
   "source": [
    "fd=open(\"Records.json\",\"w\")\n",
    "js=json.dumps(record)\n",
    "fd.write(js)\n",
    "fd.close()\n",
    "record"
   ]
  },
  {
   "cell_type": "code",
   "execution_count": null,
   "id": "8b199018",
   "metadata": {},
   "outputs": [],
   "source": []
  }
 ],
 "metadata": {
  "kernelspec": {
   "display_name": "Python 3",
   "language": "python",
   "name": "python3"
  },
  "language_info": {
   "codemirror_mode": {
    "name": "ipython",
    "version": 3
   },
   "file_extension": ".py",
   "mimetype": "text/x-python",
   "name": "python",
   "nbconvert_exporter": "python",
   "pygments_lexer": "ipython3",
   "version": "3.8.8"
  }
 },
 "nbformat": 4,
 "nbformat_minor": 5
}
